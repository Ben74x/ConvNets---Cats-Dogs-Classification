{
 "cells": [
  {
   "cell_type": "markdown",
   "metadata": {
    "colab_type": "text",
    "id": "3DR-eO17geWu"
   },
   "source": [
    "# Convolutional Neural Network"
   ]
  },
  {
   "cell_type": "markdown",
   "metadata": {
    "colab_type": "text",
    "id": "EMefrVPCg-60"
   },
   "source": [
    "### Importing the libraries"
   ]
  },
  {
   "cell_type": "code",
   "execution_count": 1,
   "metadata": {
    "colab": {},
    "colab_type": "code",
    "id": "sCV30xyVhFbE"
   },
   "outputs": [
    {
     "name": "stderr",
     "output_type": "stream",
     "text": [
      "2022-03-12 21:18:25.087375: W tensorflow/stream_executor/platform/default/dso_loader.cc:64] Could not load dynamic library 'libcudart.so.11.0'; dlerror: libcudart.so.11.0: cannot open shared object file: No such file or directory\n",
      "2022-03-12 21:18:25.087438: I tensorflow/stream_executor/cuda/cudart_stub.cc:29] Ignore above cudart dlerror if you do not have a GPU set up on your machine.\n"
     ]
    }
   ],
   "source": [
    "import tensorflow as tf\n",
    "from keras.preprocessing.image import ImageDataGenerator"
   ]
  },
  {
   "cell_type": "code",
   "execution_count": 2,
   "metadata": {
    "colab": {},
    "colab_type": "code",
    "id": "FIleuCAjoFD8"
   },
   "outputs": [
    {
     "data": {
      "text/plain": [
       "'2.6.0'"
      ]
     },
     "execution_count": 2,
     "metadata": {},
     "output_type": "execute_result"
    }
   ],
   "source": [
    "tf.__version__"
   ]
  },
  {
   "cell_type": "markdown",
   "metadata": {
    "colab_type": "text",
    "id": "oxQxCBWyoGPE"
   },
   "source": [
    "## Part 1 - Data Preprocessing"
   ]
  },
  {
   "cell_type": "markdown",
   "metadata": {
    "colab_type": "text",
    "id": "MvE-heJNo3GG"
   },
   "source": [
    "### Preprocessing the Training set"
   ]
  },
  {
   "cell_type": "code",
   "execution_count": 3,
   "metadata": {
    "colab": {},
    "colab_type": "code",
    "id": "0koUcJMJpEBD"
   },
   "outputs": [
    {
     "name": "stdout",
     "output_type": "stream",
     "text": [
      "Found 8000 images belonging to 2 classes.\n"
     ]
    }
   ],
   "source": [
    "train_datagen = ImageDataGenerator(rescale = 1./255,\n",
    "                                   shear_range = 0.2,\n",
    "                                   zoom_range = 0.2,\n",
    "                                   horizontal_flip = True)\n",
    "training_set = train_datagen.flow_from_directory('dataset/training_set',\n",
    "                                                 target_size = (64, 64),\n",
    "                                                 batch_size = 32,\n",
    "                                                 class_mode = 'binary')"
   ]
  },
  {
   "cell_type": "markdown",
   "metadata": {
    "colab_type": "text",
    "id": "mrCMmGw9pHys"
   },
   "source": [
    "### Preprocessing the Test set"
   ]
  },
  {
   "cell_type": "code",
   "execution_count": 4,
   "metadata": {
    "colab": {},
    "colab_type": "code",
    "id": "SH4WzfOhpKc3"
   },
   "outputs": [
    {
     "name": "stdout",
     "output_type": "stream",
     "text": [
      "Found 2000 images belonging to 2 classes.\n"
     ]
    }
   ],
   "source": [
    "test_datagen = ImageDataGenerator(rescale = 1./255)\n",
    "test_set = test_datagen.flow_from_directory('dataset/test_set',\n",
    "                                            target_size = (64, 64),\n",
    "                                            batch_size = 32,\n",
    "                                            class_mode = 'binary')"
   ]
  },
  {
   "cell_type": "markdown",
   "metadata": {
    "colab_type": "text",
    "id": "af8O4l90gk7B"
   },
   "source": [
    "## Part 2 - Building the CNN"
   ]
  },
  {
   "cell_type": "markdown",
   "metadata": {
    "colab_type": "text",
    "id": "ces1gXY2lmoX"
   },
   "source": [
    "### Initialising the CNN"
   ]
  },
  {
   "cell_type": "code",
   "execution_count": 5,
   "metadata": {
    "colab": {},
    "colab_type": "code",
    "id": "SAUt4UMPlhLS"
   },
   "outputs": [
    {
     "name": "stderr",
     "output_type": "stream",
     "text": [
      "2022-03-12 21:18:43.326534: E tensorflow/stream_executor/cuda/cuda_driver.cc:271] failed call to cuInit: CUDA_ERROR_NO_DEVICE: no CUDA-capable device is detected\n",
      "2022-03-12 21:18:43.326563: I tensorflow/stream_executor/cuda/cuda_diagnostics.cc:156] kernel driver does not appear to be running on this host (bdwumah74-Alienware): /proc/driver/nvidia/version does not exist\n",
      "2022-03-12 21:18:43.327356: I tensorflow/core/platform/cpu_feature_guard.cc:142] This TensorFlow binary is optimized with oneAPI Deep Neural Network Library (oneDNN) to use the following CPU instructions in performance-critical operations:  AVX2 FMA\n",
      "To enable them in other operations, rebuild TensorFlow with the appropriate compiler flags.\n"
     ]
    }
   ],
   "source": [
    "cnn = tf.keras.models.Sequential()"
   ]
  },
  {
   "cell_type": "markdown",
   "metadata": {
    "colab_type": "text",
    "id": "u5YJj_XMl5LF"
   },
   "source": [
    "### Step 1 - Convolution"
   ]
  },
  {
   "cell_type": "code",
   "execution_count": 6,
   "metadata": {
    "colab": {},
    "colab_type": "code",
    "id": "XPzPrMckl-hV"
   },
   "outputs": [],
   "source": [
    "cnn.add(tf.keras.layers.Conv2D(filters=32, kernel_size=3, activation='relu', input_shape=[64, 64, 3]))"
   ]
  },
  {
   "cell_type": "markdown",
   "metadata": {
    "colab_type": "text",
    "id": "tf87FpvxmNOJ"
   },
   "source": [
    "### Step 2 - Pooling"
   ]
  },
  {
   "cell_type": "code",
   "execution_count": 7,
   "metadata": {
    "colab": {},
    "colab_type": "code",
    "id": "ncpqPl69mOac"
   },
   "outputs": [],
   "source": [
    "cnn.add(tf.keras.layers.MaxPool2D(pool_size=2, strides=2))"
   ]
  },
  {
   "cell_type": "markdown",
   "metadata": {
    "colab_type": "text",
    "id": "xaTOgD8rm4mU"
   },
   "source": [
    "### Adding a second convolutional layer"
   ]
  },
  {
   "cell_type": "code",
   "execution_count": 8,
   "metadata": {
    "colab": {},
    "colab_type": "code",
    "id": "i_-FZjn_m8gk"
   },
   "outputs": [],
   "source": [
    "cnn.add(tf.keras.layers.Conv2D(filters=32, kernel_size=3, activation='relu'))\n",
    "cnn.add(tf.keras.layers.MaxPool2D(pool_size=2, strides=2))"
   ]
  },
  {
   "cell_type": "markdown",
   "metadata": {
    "colab_type": "text",
    "id": "tmiEuvTunKfk"
   },
   "source": [
    "### Step 3 - Flattening"
   ]
  },
  {
   "cell_type": "code",
   "execution_count": 9,
   "metadata": {
    "colab": {},
    "colab_type": "code",
    "id": "6AZeOGCvnNZn"
   },
   "outputs": [],
   "source": [
    "cnn.add(tf.keras.layers.Flatten())"
   ]
  },
  {
   "cell_type": "markdown",
   "metadata": {
    "colab_type": "text",
    "id": "dAoSECOm203v"
   },
   "source": [
    "### Step 4 - Full Connection"
   ]
  },
  {
   "cell_type": "code",
   "execution_count": 10,
   "metadata": {
    "colab": {},
    "colab_type": "code",
    "id": "8GtmUlLd26Nq"
   },
   "outputs": [],
   "source": [
    "cnn.add(tf.keras.layers.Dense(units=128, activation='relu'))"
   ]
  },
  {
   "cell_type": "markdown",
   "metadata": {
    "colab_type": "text",
    "id": "yTldFvbX28Na"
   },
   "source": [
    "### Step 5 - Output Layer"
   ]
  },
  {
   "cell_type": "code",
   "execution_count": 11,
   "metadata": {
    "colab": {},
    "colab_type": "code",
    "id": "1p_Zj1Mc3Ko_"
   },
   "outputs": [],
   "source": [
    "cnn.add(tf.keras.layers.Dense(units=1, activation='sigmoid'))"
   ]
  },
  {
   "cell_type": "markdown",
   "metadata": {
    "colab_type": "text",
    "id": "D6XkI90snSDl"
   },
   "source": [
    "## Part 3 - Training the CNN"
   ]
  },
  {
   "cell_type": "markdown",
   "metadata": {
    "colab_type": "text",
    "id": "vfrFQACEnc6i"
   },
   "source": [
    "### Compiling the CNN"
   ]
  },
  {
   "cell_type": "code",
   "execution_count": 12,
   "metadata": {
    "colab": {},
    "colab_type": "code",
    "id": "NALksrNQpUlJ"
   },
   "outputs": [],
   "source": [
    "cnn.compile(optimizer = 'adam', loss = 'binary_crossentropy', metrics = ['accuracy'])"
   ]
  },
  {
   "cell_type": "markdown",
   "metadata": {
    "colab_type": "text",
    "id": "ehS-v3MIpX2h"
   },
   "source": [
    "### Training the CNN on the Training set and evaluating it on the Test set"
   ]
  },
  {
   "cell_type": "code",
   "execution_count": 13,
   "metadata": {
    "colab": {},
    "colab_type": "code",
    "id": "XUj1W4PJptta",
    "scrolled": false
   },
   "outputs": [
    {
     "name": "stderr",
     "output_type": "stream",
     "text": [
      "2022-03-12 21:18:48.089427: I tensorflow/compiler/mlir/mlir_graph_optimization_pass.cc:185] None of the MLIR Optimization Passes are enabled (registered 2)\n"
     ]
    },
    {
     "name": "stdout",
     "output_type": "stream",
     "text": [
      "Epoch 1/100\n",
      "250/250 [==============================] - 118s 463ms/step - loss: 0.6649 - accuracy: 0.5996 - val_loss: 0.6308 - val_accuracy: 0.6330\n",
      "Epoch 2/100\n",
      "250/250 [==============================] - 39s 154ms/step - loss: 0.6127 - accuracy: 0.6672 - val_loss: 0.5905 - val_accuracy: 0.6855\n",
      "Epoch 3/100\n",
      "250/250 [==============================] - 38s 154ms/step - loss: 0.5727 - accuracy: 0.7035 - val_loss: 0.5349 - val_accuracy: 0.7370\n",
      "Epoch 4/100\n",
      "250/250 [==============================] - 38s 154ms/step - loss: 0.5287 - accuracy: 0.7410 - val_loss: 0.6166 - val_accuracy: 0.6850\n",
      "Epoch 5/100\n",
      "250/250 [==============================] - 38s 154ms/step - loss: 0.5076 - accuracy: 0.7521 - val_loss: 0.5038 - val_accuracy: 0.7555\n",
      "Epoch 6/100\n",
      "250/250 [==============================] - 39s 154ms/step - loss: 0.4866 - accuracy: 0.7640 - val_loss: 0.4798 - val_accuracy: 0.7825\n",
      "Epoch 7/100\n",
      "250/250 [==============================] - 39s 154ms/step - loss: 0.4651 - accuracy: 0.7754 - val_loss: 0.4877 - val_accuracy: 0.7795\n",
      "Epoch 8/100\n",
      "250/250 [==============================] - 39s 154ms/step - loss: 0.4533 - accuracy: 0.7820 - val_loss: 0.5309 - val_accuracy: 0.7335\n",
      "Epoch 9/100\n",
      "250/250 [==============================] - 39s 154ms/step - loss: 0.4357 - accuracy: 0.7974 - val_loss: 0.5027 - val_accuracy: 0.7660\n",
      "Epoch 10/100\n",
      "250/250 [==============================] - 39s 154ms/step - loss: 0.4293 - accuracy: 0.7996 - val_loss: 0.4705 - val_accuracy: 0.7850\n",
      "Epoch 11/100\n",
      "250/250 [==============================] - 38s 154ms/step - loss: 0.4134 - accuracy: 0.8090 - val_loss: 0.4822 - val_accuracy: 0.7850\n",
      "Epoch 12/100\n",
      "250/250 [==============================] - 39s 154ms/step - loss: 0.3893 - accuracy: 0.8236 - val_loss: 0.5161 - val_accuracy: 0.7595\n",
      "Epoch 13/100\n",
      "250/250 [==============================] - 39s 154ms/step - loss: 0.3835 - accuracy: 0.8234 - val_loss: 0.4884 - val_accuracy: 0.7930\n",
      "Epoch 14/100\n",
      "250/250 [==============================] - 39s 154ms/step - loss: 0.3610 - accuracy: 0.8411 - val_loss: 0.5050 - val_accuracy: 0.7780\n",
      "Epoch 15/100\n",
      "250/250 [==============================] - 38s 154ms/step - loss: 0.3617 - accuracy: 0.8367 - val_loss: 0.4700 - val_accuracy: 0.8000\n",
      "Epoch 16/100\n",
      "250/250 [==============================] - 39s 154ms/step - loss: 0.3410 - accuracy: 0.8476 - val_loss: 0.4535 - val_accuracy: 0.8095\n",
      "Epoch 17/100\n",
      "250/250 [==============================] - 38s 154ms/step - loss: 0.3339 - accuracy: 0.8533 - val_loss: 0.4981 - val_accuracy: 0.7970\n",
      "Epoch 18/100\n",
      "250/250 [==============================] - 39s 154ms/step - loss: 0.3188 - accuracy: 0.8615 - val_loss: 0.4673 - val_accuracy: 0.8015\n",
      "Epoch 19/100\n",
      "250/250 [==============================] - 38s 154ms/step - loss: 0.3139 - accuracy: 0.8622 - val_loss: 0.4992 - val_accuracy: 0.7975\n",
      "Epoch 20/100\n",
      "250/250 [==============================] - 39s 154ms/step - loss: 0.3012 - accuracy: 0.8676 - val_loss: 0.4827 - val_accuracy: 0.7995\n",
      "Epoch 21/100\n",
      "250/250 [==============================] - 38s 154ms/step - loss: 0.2747 - accuracy: 0.8826 - val_loss: 0.5098 - val_accuracy: 0.7990\n",
      "Epoch 22/100\n",
      "250/250 [==============================] - 39s 154ms/step - loss: 0.2682 - accuracy: 0.8851 - val_loss: 0.5066 - val_accuracy: 0.7955\n",
      "Epoch 23/100\n",
      "250/250 [==============================] - 39s 154ms/step - loss: 0.2529 - accuracy: 0.8979 - val_loss: 0.5866 - val_accuracy: 0.7805\n",
      "Epoch 24/100\n",
      "250/250 [==============================] - 38s 154ms/step - loss: 0.2451 - accuracy: 0.8980 - val_loss: 0.5305 - val_accuracy: 0.8045\n",
      "Epoch 25/100\n",
      "250/250 [==============================] - 39s 155ms/step - loss: 0.2240 - accuracy: 0.9079 - val_loss: 0.5620 - val_accuracy: 0.7990\n",
      "Epoch 26/100\n",
      "250/250 [==============================] - 39s 155ms/step - loss: 0.2253 - accuracy: 0.9101 - val_loss: 0.5534 - val_accuracy: 0.8020\n",
      "Epoch 27/100\n",
      "250/250 [==============================] - 39s 154ms/step - loss: 0.2044 - accuracy: 0.9154 - val_loss: 0.5811 - val_accuracy: 0.8040\n",
      "Epoch 28/100\n",
      "250/250 [==============================] - 38s 154ms/step - loss: 0.1996 - accuracy: 0.9155 - val_loss: 0.5670 - val_accuracy: 0.7970\n",
      "Epoch 29/100\n",
      "250/250 [==============================] - 39s 154ms/step - loss: 0.1867 - accuracy: 0.9246 - val_loss: 0.5841 - val_accuracy: 0.8075\n",
      "Epoch 30/100\n",
      "250/250 [==============================] - 39s 155ms/step - loss: 0.1865 - accuracy: 0.9249 - val_loss: 0.6981 - val_accuracy: 0.7825\n",
      "Epoch 31/100\n",
      "250/250 [==============================] - 39s 157ms/step - loss: 0.1694 - accuracy: 0.9324 - val_loss: 0.6515 - val_accuracy: 0.7995\n",
      "Epoch 32/100\n",
      "250/250 [==============================] - 38s 152ms/step - loss: 0.1620 - accuracy: 0.9366 - val_loss: 0.6469 - val_accuracy: 0.8035\n",
      "Epoch 33/100\n",
      "250/250 [==============================] - 38s 152ms/step - loss: 0.1588 - accuracy: 0.9386 - val_loss: 0.6827 - val_accuracy: 0.7845\n",
      "Epoch 34/100\n",
      "250/250 [==============================] - 38s 152ms/step - loss: 0.1455 - accuracy: 0.9440 - val_loss: 0.7732 - val_accuracy: 0.7915\n",
      "Epoch 35/100\n",
      "250/250 [==============================] - 38s 152ms/step - loss: 0.1398 - accuracy: 0.9441 - val_loss: 0.6774 - val_accuracy: 0.8055\n",
      "Epoch 36/100\n",
      "250/250 [==============================] - 38s 152ms/step - loss: 0.1297 - accuracy: 0.9490 - val_loss: 0.6773 - val_accuracy: 0.8140\n",
      "Epoch 37/100\n",
      "250/250 [==============================] - 38s 152ms/step - loss: 0.1350 - accuracy: 0.9459 - val_loss: 0.6993 - val_accuracy: 0.8015\n",
      "Epoch 38/100\n",
      "250/250 [==============================] - 38s 152ms/step - loss: 0.1237 - accuracy: 0.9549 - val_loss: 0.6898 - val_accuracy: 0.8070\n",
      "Epoch 39/100\n",
      "250/250 [==============================] - 38s 152ms/step - loss: 0.1216 - accuracy: 0.9506 - val_loss: 0.7037 - val_accuracy: 0.8115\n",
      "Epoch 40/100\n",
      "250/250 [==============================] - 38s 152ms/step - loss: 0.1171 - accuracy: 0.9561 - val_loss: 0.7175 - val_accuracy: 0.8100\n",
      "Epoch 41/100\n",
      "250/250 [==============================] - 38s 152ms/step - loss: 0.1075 - accuracy: 0.9584 - val_loss: 0.7127 - val_accuracy: 0.8150\n",
      "Epoch 42/100\n",
      "250/250 [==============================] - 38s 152ms/step - loss: 0.1046 - accuracy: 0.9619 - val_loss: 0.7975 - val_accuracy: 0.8040\n",
      "Epoch 43/100\n",
      "250/250 [==============================] - 38s 152ms/step - loss: 0.0977 - accuracy: 0.9640 - val_loss: 0.8236 - val_accuracy: 0.8060\n",
      "Epoch 44/100\n",
      "250/250 [==============================] - 38s 152ms/step - loss: 0.1019 - accuracy: 0.9619 - val_loss: 0.7610 - val_accuracy: 0.7925\n",
      "Epoch 45/100\n",
      "250/250 [==============================] - 38s 152ms/step - loss: 0.0879 - accuracy: 0.9685 - val_loss: 0.8221 - val_accuracy: 0.8040\n",
      "Epoch 46/100\n",
      "250/250 [==============================] - 38s 152ms/step - loss: 0.0919 - accuracy: 0.9659 - val_loss: 0.8312 - val_accuracy: 0.8035\n",
      "Epoch 47/100\n",
      "250/250 [==============================] - 38s 152ms/step - loss: 0.0894 - accuracy: 0.9672 - val_loss: 0.8075 - val_accuracy: 0.7985\n",
      "Epoch 48/100\n",
      "250/250 [==============================] - 39s 154ms/step - loss: 0.0831 - accuracy: 0.9707 - val_loss: 0.8891 - val_accuracy: 0.8010\n",
      "Epoch 49/100\n",
      "250/250 [==============================] - 39s 156ms/step - loss: 0.0831 - accuracy: 0.9695 - val_loss: 0.8138 - val_accuracy: 0.8115\n",
      "Epoch 50/100\n",
      "250/250 [==============================] - 39s 154ms/step - loss: 0.0816 - accuracy: 0.9705 - val_loss: 1.0100 - val_accuracy: 0.7805\n",
      "Epoch 51/100\n",
      "250/250 [==============================] - 39s 155ms/step - loss: 0.0884 - accuracy: 0.9664 - val_loss: 0.8213 - val_accuracy: 0.8035\n",
      "Epoch 52/100\n",
      "250/250 [==============================] - 38s 154ms/step - loss: 0.0719 - accuracy: 0.9747 - val_loss: 0.9565 - val_accuracy: 0.7950\n",
      "Epoch 53/100\n",
      "250/250 [==============================] - 39s 154ms/step - loss: 0.0645 - accuracy: 0.9770 - val_loss: 0.9714 - val_accuracy: 0.7835\n",
      "Epoch 54/100\n",
      "250/250 [==============================] - 39s 154ms/step - loss: 0.0777 - accuracy: 0.9718 - val_loss: 0.8657 - val_accuracy: 0.8160\n",
      "Epoch 55/100\n",
      "250/250 [==============================] - 39s 154ms/step - loss: 0.0714 - accuracy: 0.9749 - val_loss: 0.9182 - val_accuracy: 0.8045\n",
      "Epoch 56/100\n",
      "250/250 [==============================] - 38s 154ms/step - loss: 0.0727 - accuracy: 0.9758 - val_loss: 0.9237 - val_accuracy: 0.7965\n"
     ]
    },
    {
     "name": "stdout",
     "output_type": "stream",
     "text": [
      "Epoch 57/100\n",
      "250/250 [==============================] - 38s 153ms/step - loss: 0.0584 - accuracy: 0.9801 - val_loss: 0.9556 - val_accuracy: 0.8035\n",
      "Epoch 58/100\n",
      "250/250 [==============================] - 38s 154ms/step - loss: 0.0691 - accuracy: 0.9774 - val_loss: 0.9743 - val_accuracy: 0.7810\n",
      "Epoch 59/100\n",
      "250/250 [==============================] - 38s 153ms/step - loss: 0.0650 - accuracy: 0.9766 - val_loss: 0.8530 - val_accuracy: 0.8070\n",
      "Epoch 60/100\n",
      "250/250 [==============================] - 39s 156ms/step - loss: 0.0682 - accuracy: 0.9766 - val_loss: 0.9608 - val_accuracy: 0.8050\n",
      "Epoch 61/100\n",
      "250/250 [==============================] - 40s 161ms/step - loss: 0.0635 - accuracy: 0.9809 - val_loss: 0.8457 - val_accuracy: 0.8065\n",
      "Epoch 62/100\n",
      "250/250 [==============================] - 39s 157ms/step - loss: 0.0605 - accuracy: 0.9794 - val_loss: 0.9285 - val_accuracy: 0.8020\n",
      "Epoch 63/100\n",
      "250/250 [==============================] - 40s 160ms/step - loss: 0.0598 - accuracy: 0.9796 - val_loss: 0.9480 - val_accuracy: 0.8045\n",
      "Epoch 64/100\n",
      "250/250 [==============================] - 38s 154ms/step - loss: 0.0524 - accuracy: 0.9814 - val_loss: 1.0669 - val_accuracy: 0.7925\n",
      "Epoch 65/100\n",
      "250/250 [==============================] - 38s 152ms/step - loss: 0.0589 - accuracy: 0.9794 - val_loss: 0.9007 - val_accuracy: 0.8115\n",
      "Epoch 66/100\n",
      "250/250 [==============================] - 38s 152ms/step - loss: 0.0605 - accuracy: 0.9785 - val_loss: 0.9028 - val_accuracy: 0.8120\n",
      "Epoch 67/100\n",
      "250/250 [==============================] - 38s 152ms/step - loss: 0.0531 - accuracy: 0.9815 - val_loss: 1.0795 - val_accuracy: 0.7865\n",
      "Epoch 68/100\n",
      "250/250 [==============================] - 38s 152ms/step - loss: 0.0481 - accuracy: 0.9820 - val_loss: 0.9910 - val_accuracy: 0.8085\n",
      "Epoch 69/100\n",
      "250/250 [==============================] - 38s 152ms/step - loss: 0.0619 - accuracy: 0.9765 - val_loss: 1.1064 - val_accuracy: 0.7890\n",
      "Epoch 70/100\n",
      "250/250 [==============================] - 38s 152ms/step - loss: 0.0581 - accuracy: 0.9793 - val_loss: 1.0851 - val_accuracy: 0.7925\n",
      "Epoch 71/100\n",
      "250/250 [==============================] - 38s 152ms/step - loss: 0.0567 - accuracy: 0.9771 - val_loss: 1.0153 - val_accuracy: 0.8085\n",
      "Epoch 72/100\n",
      "250/250 [==============================] - 38s 152ms/step - loss: 0.0471 - accuracy: 0.9826 - val_loss: 1.0833 - val_accuracy: 0.8045\n",
      "Epoch 73/100\n",
      "250/250 [==============================] - 38s 153ms/step - loss: 0.0501 - accuracy: 0.9827 - val_loss: 1.0944 - val_accuracy: 0.7970\n",
      "Epoch 74/100\n",
      "250/250 [==============================] - 38s 152ms/step - loss: 0.0499 - accuracy: 0.9824 - val_loss: 1.0621 - val_accuracy: 0.8045\n",
      "Epoch 75/100\n",
      "250/250 [==============================] - 38s 152ms/step - loss: 0.0482 - accuracy: 0.9830 - val_loss: 1.0283 - val_accuracy: 0.8080\n",
      "Epoch 76/100\n",
      "250/250 [==============================] - 38s 152ms/step - loss: 0.0633 - accuracy: 0.9789 - val_loss: 1.0320 - val_accuracy: 0.7905\n",
      "Epoch 77/100\n",
      "250/250 [==============================] - 38s 152ms/step - loss: 0.0496 - accuracy: 0.9821 - val_loss: 1.0209 - val_accuracy: 0.7965\n",
      "Epoch 78/100\n",
      "250/250 [==============================] - 38s 152ms/step - loss: 0.0440 - accuracy: 0.9840 - val_loss: 0.9421 - val_accuracy: 0.8195\n",
      "Epoch 79/100\n",
      "250/250 [==============================] - 38s 152ms/step - loss: 0.0421 - accuracy: 0.9846 - val_loss: 1.0295 - val_accuracy: 0.8110\n",
      "Epoch 80/100\n",
      "250/250 [==============================] - 38s 152ms/step - loss: 0.0447 - accuracy: 0.9858 - val_loss: 1.0116 - val_accuracy: 0.8020\n",
      "Epoch 81/100\n",
      "250/250 [==============================] - 38s 152ms/step - loss: 0.0486 - accuracy: 0.9825 - val_loss: 1.0264 - val_accuracy: 0.8090\n",
      "Epoch 82/100\n",
      "250/250 [==============================] - 39s 154ms/step - loss: 0.0471 - accuracy: 0.9830 - val_loss: 1.0701 - val_accuracy: 0.8025\n",
      "Epoch 83/100\n",
      "250/250 [==============================] - 39s 156ms/step - loss: 0.0459 - accuracy: 0.9849 - val_loss: 1.0656 - val_accuracy: 0.8030\n",
      "Epoch 84/100\n",
      "250/250 [==============================] - 40s 160ms/step - loss: 0.0440 - accuracy: 0.9843 - val_loss: 1.0666 - val_accuracy: 0.8025\n",
      "Epoch 85/100\n",
      "250/250 [==============================] - 38s 153ms/step - loss: 0.0404 - accuracy: 0.9856 - val_loss: 1.0316 - val_accuracy: 0.8045\n",
      "Epoch 86/100\n",
      "250/250 [==============================] - 38s 152ms/step - loss: 0.0415 - accuracy: 0.9858 - val_loss: 1.0466 - val_accuracy: 0.8130\n",
      "Epoch 87/100\n",
      "250/250 [==============================] - 38s 154ms/step - loss: 0.0372 - accuracy: 0.9876 - val_loss: 1.1613 - val_accuracy: 0.8085\n",
      "Epoch 88/100\n",
      "250/250 [==============================] - 39s 154ms/step - loss: 0.0425 - accuracy: 0.9843 - val_loss: 1.0932 - val_accuracy: 0.8105\n",
      "Epoch 89/100\n",
      "250/250 [==============================] - 39s 154ms/step - loss: 0.0409 - accuracy: 0.9870 - val_loss: 1.0194 - val_accuracy: 0.8190\n",
      "Epoch 90/100\n",
      "250/250 [==============================] - 39s 154ms/step - loss: 0.0353 - accuracy: 0.9876 - val_loss: 1.1036 - val_accuracy: 0.8145\n",
      "Epoch 91/100\n",
      "250/250 [==============================] - 39s 155ms/step - loss: 0.0509 - accuracy: 0.9836 - val_loss: 1.1453 - val_accuracy: 0.8050\n",
      "Epoch 92/100\n",
      "250/250 [==============================] - 39s 154ms/step - loss: 0.0413 - accuracy: 0.9860 - val_loss: 1.1981 - val_accuracy: 0.8125\n",
      "Epoch 93/100\n",
      "250/250 [==============================] - 39s 156ms/step - loss: 0.0476 - accuracy: 0.9837 - val_loss: 1.2397 - val_accuracy: 0.7990\n",
      "Epoch 94/100\n",
      "250/250 [==============================] - 38s 154ms/step - loss: 0.0430 - accuracy: 0.9865 - val_loss: 1.0666 - val_accuracy: 0.8120\n",
      "Epoch 95/100\n",
      "250/250 [==============================] - 38s 154ms/step - loss: 0.0483 - accuracy: 0.9820 - val_loss: 1.1333 - val_accuracy: 0.8075\n",
      "Epoch 96/100\n",
      "250/250 [==============================] - 38s 154ms/step - loss: 0.0337 - accuracy: 0.9887 - val_loss: 1.0674 - val_accuracy: 0.8140\n",
      "Epoch 97/100\n",
      "250/250 [==============================] - 39s 154ms/step - loss: 0.0453 - accuracy: 0.9849 - val_loss: 1.0569 - val_accuracy: 0.8085\n",
      "Epoch 98/100\n",
      "250/250 [==============================] - 38s 154ms/step - loss: 0.0332 - accuracy: 0.9872 - val_loss: 1.1411 - val_accuracy: 0.8115\n",
      "Epoch 99/100\n",
      "250/250 [==============================] - 38s 154ms/step - loss: 0.0442 - accuracy: 0.9840 - val_loss: 1.2190 - val_accuracy: 0.8100\n",
      "Epoch 100/100\n",
      "250/250 [==============================] - 38s 154ms/step - loss: 0.0399 - accuracy: 0.9864 - val_loss: 1.1421 - val_accuracy: 0.8095\n"
     ]
    },
    {
     "data": {
      "text/plain": [
       "<keras.callbacks.History at 0x7fd37459a6a0>"
      ]
     },
     "execution_count": 13,
     "metadata": {},
     "output_type": "execute_result"
    }
   ],
   "source": [
    "cnn.fit(x = training_set, validation_data = test_set, epochs = 100)"
   ]
  },
  {
   "cell_type": "markdown",
   "metadata": {
    "colab_type": "text",
    "id": "U3PZasO0006Z"
   },
   "source": [
    "## Part 4 - Making a single prediction"
   ]
  },
  {
   "cell_type": "code",
   "execution_count": null,
   "metadata": {},
   "outputs": [],
   "source": []
  },
  {
   "cell_type": "code",
   "execution_count": 16,
   "metadata": {
    "colab": {},
    "colab_type": "code",
    "id": "gsSiWEJY1BPB"
   },
   "outputs": [],
   "source": [
    "import numpy as np\n",
    "from keras.preprocessing import image\n",
    "test_image = image.load_img('dataset/single_prediction/cat_or_dog_1.jpg', target_size = (64, 64))\n",
    "test_image = image.img_to_array(test_image)\n",
    "test_image = np.expand_dims(test_image, axis = 0)\n",
    "result = cnn.predict(test_image)\n",
    "training_set.class_indices\n",
    "if result[0][0] == 1:\n",
    "  prediction = 'dog'\n",
    "else:\n",
    "  prediction = 'cat'\n",
    "\n",
    "test_image1 = image.load_img('dataset/single_prediction/cat_or_dog_2.jpg', target_size = (64, 64))\n",
    "test_image1 = image.img_to_array(test_image1)\n",
    "test_image1 = np.expand_dims(test_image1, axis = 0)\n",
    "result1 = cnn.predict(test_image1)\n",
    "training_set.class_indices\n",
    "if result1[0][0] == 1:\n",
    "  prediction1 = 'dog'\n",
    "else:\n",
    "  prediction1 = 'cat'"
   ]
  },
  {
   "cell_type": "code",
   "execution_count": 17,
   "metadata": {
    "colab": {},
    "colab_type": "code",
    "id": "ED9KB3I54c1i"
   },
   "outputs": [
    {
     "name": "stdout",
     "output_type": "stream",
     "text": [
      "dog\n"
     ]
    }
   ],
   "source": [
    "print(prediction)"
   ]
  },
  {
   "cell_type": "code",
   "execution_count": 18,
   "metadata": {},
   "outputs": [
    {
     "name": "stdout",
     "output_type": "stream",
     "text": [
      "cat\n"
     ]
    }
   ],
   "source": [
    "print(prediction1)"
   ]
  }
 ],
 "metadata": {
  "colab": {
   "collapsed_sections": [],
   "name": "convolutional_neural_network.ipynb",
   "provenance": [],
   "toc_visible": true
  },
  "kernelspec": {
   "display_name": "Python 3 (ipykernel)",
   "language": "python",
   "name": "python3"
  },
  "language_info": {
   "codemirror_mode": {
    "name": "ipython",
    "version": 3
   },
   "file_extension": ".py",
   "mimetype": "text/x-python",
   "name": "python",
   "nbconvert_exporter": "python",
   "pygments_lexer": "ipython3",
   "version": "3.8.11"
  }
 },
 "nbformat": 4,
 "nbformat_minor": 1
}
