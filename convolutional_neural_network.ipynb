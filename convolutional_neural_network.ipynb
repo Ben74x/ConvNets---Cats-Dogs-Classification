{
 "cells": [
  {
   "cell_type": "markdown",
   "metadata": {
    "colab_type": "text",
    "id": "3DR-eO17geWu"
   },
   "source": [
    "# Convolutional Neural Network"
   ]
  },
  {
   "cell_type": "markdown",
   "metadata": {
    "colab_type": "text",
    "id": "EMefrVPCg-60"
   },
   "source": [
    "### Importing the libraries"
   ]
  },
  {
   "cell_type": "code",
   "execution_count": 1,
   "metadata": {
    "colab": {},
    "colab_type": "code",
    "id": "sCV30xyVhFbE"
   },
   "outputs": [
    {
     "name": "stderr",
     "output_type": "stream",
     "text": [
      "2022-03-09 18:49:42.863459: W tensorflow/stream_executor/platform/default/dso_loader.cc:64] Could not load dynamic library 'libcudart.so.11.0'; dlerror: libcudart.so.11.0: cannot open shared object file: No such file or directory\n",
      "2022-03-09 18:49:42.863528: I tensorflow/stream_executor/cuda/cudart_stub.cc:29] Ignore above cudart dlerror if you do not have a GPU set up on your machine.\n"
     ]
    }
   ],
   "source": [
    "import tensorflow as tf\n",
    "from keras.preprocessing.image import ImageDataGenerator"
   ]
  },
  {
   "cell_type": "code",
   "execution_count": 2,
   "metadata": {
    "colab": {},
    "colab_type": "code",
    "id": "FIleuCAjoFD8"
   },
   "outputs": [
    {
     "data": {
      "text/plain": [
       "'2.6.0'"
      ]
     },
     "execution_count": 2,
     "metadata": {},
     "output_type": "execute_result"
    }
   ],
   "source": [
    "tf.__version__"
   ]
  },
  {
   "cell_type": "markdown",
   "metadata": {
    "colab_type": "text",
    "id": "oxQxCBWyoGPE"
   },
   "source": [
    "## Part 1 - Data Preprocessing"
   ]
  },
  {
   "cell_type": "markdown",
   "metadata": {
    "colab_type": "text",
    "id": "MvE-heJNo3GG"
   },
   "source": [
    "### Preprocessing the Training set"
   ]
  },
  {
   "cell_type": "code",
   "execution_count": 3,
   "metadata": {
    "colab": {},
    "colab_type": "code",
    "id": "0koUcJMJpEBD"
   },
   "outputs": [
    {
     "name": "stdout",
     "output_type": "stream",
     "text": [
      "Found 8000 images belonging to 2 classes.\n"
     ]
    }
   ],
   "source": [
    "train_datagen = ImageDataGenerator(rescale = 1./255,\n",
    "                                   shear_range = 0.2,\n",
    "                                   zoom_range = 0.2,\n",
    "                                   horizontal_flip = True)\n",
    "training_set = train_datagen.flow_from_directory('dataset/training_set',\n",
    "                                                 target_size = (64, 64),\n",
    "                                                 batch_size = 32,\n",
    "                                                 class_mode = 'binary')"
   ]
  },
  {
   "cell_type": "markdown",
   "metadata": {
    "colab_type": "text",
    "id": "mrCMmGw9pHys"
   },
   "source": [
    "### Preprocessing the Test set"
   ]
  },
  {
   "cell_type": "code",
   "execution_count": 4,
   "metadata": {
    "colab": {},
    "colab_type": "code",
    "id": "SH4WzfOhpKc3"
   },
   "outputs": [
    {
     "name": "stdout",
     "output_type": "stream",
     "text": [
      "Found 2000 images belonging to 2 classes.\n"
     ]
    }
   ],
   "source": [
    "test_datagen = ImageDataGenerator(rescale = 1./255)\n",
    "test_set = test_datagen.flow_from_directory('dataset/test_set',\n",
    "                                            target_size = (64, 64),\n",
    "                                            batch_size = 32,\n",
    "                                            class_mode = 'binary')"
   ]
  },
  {
   "cell_type": "markdown",
   "metadata": {
    "colab_type": "text",
    "id": "af8O4l90gk7B"
   },
   "source": [
    "## Part 2 - Building the CNN"
   ]
  },
  {
   "cell_type": "markdown",
   "metadata": {
    "colab_type": "text",
    "id": "ces1gXY2lmoX"
   },
   "source": [
    "### Initialising the CNN"
   ]
  },
  {
   "cell_type": "code",
   "execution_count": 5,
   "metadata": {
    "colab": {},
    "colab_type": "code",
    "id": "SAUt4UMPlhLS"
   },
   "outputs": [
    {
     "name": "stderr",
     "output_type": "stream",
     "text": [
      "2022-03-09 19:50:11.603063: E tensorflow/stream_executor/cuda/cuda_driver.cc:271] failed call to cuInit: CUDA_ERROR_NO_DEVICE: no CUDA-capable device is detected\n",
      "2022-03-09 19:50:11.603101: I tensorflow/stream_executor/cuda/cuda_diagnostics.cc:156] kernel driver does not appear to be running on this host (bdwumah74-Alienware): /proc/driver/nvidia/version does not exist\n",
      "2022-03-09 19:50:11.603594: I tensorflow/core/platform/cpu_feature_guard.cc:142] This TensorFlow binary is optimized with oneAPI Deep Neural Network Library (oneDNN) to use the following CPU instructions in performance-critical operations:  AVX2 FMA\n",
      "To enable them in other operations, rebuild TensorFlow with the appropriate compiler flags.\n"
     ]
    }
   ],
   "source": [
    "cnn = tf.keras.models.Sequential()"
   ]
  },
  {
   "cell_type": "markdown",
   "metadata": {
    "colab_type": "text",
    "id": "u5YJj_XMl5LF"
   },
   "source": [
    "### Step 1 - Convolution"
   ]
  },
  {
   "cell_type": "code",
   "execution_count": 6,
   "metadata": {
    "colab": {},
    "colab_type": "code",
    "id": "XPzPrMckl-hV"
   },
   "outputs": [],
   "source": [
    "cnn.add(tf.keras.layers.Conv2D(filters=32, kernel_size=3, activation='relu', input_shape=[64, 64, 3]))"
   ]
  },
  {
   "cell_type": "markdown",
   "metadata": {
    "colab_type": "text",
    "id": "tf87FpvxmNOJ"
   },
   "source": [
    "### Step 2 - Pooling"
   ]
  },
  {
   "cell_type": "code",
   "execution_count": 7,
   "metadata": {
    "colab": {},
    "colab_type": "code",
    "id": "ncpqPl69mOac"
   },
   "outputs": [],
   "source": [
    "cnn.add(tf.keras.layers.MaxPool2D(pool_size=2, strides=2))"
   ]
  },
  {
   "cell_type": "markdown",
   "metadata": {
    "colab_type": "text",
    "id": "xaTOgD8rm4mU"
   },
   "source": [
    "### Adding a second convolutional layer"
   ]
  },
  {
   "cell_type": "code",
   "execution_count": 8,
   "metadata": {
    "colab": {},
    "colab_type": "code",
    "id": "i_-FZjn_m8gk"
   },
   "outputs": [],
   "source": [
    "cnn.add(tf.keras.layers.Conv2D(filters=32, kernel_size=3, activation='relu'))\n",
    "cnn.add(tf.keras.layers.MaxPool2D(pool_size=2, strides=2))"
   ]
  },
  {
   "cell_type": "markdown",
   "metadata": {
    "colab_type": "text",
    "id": "tmiEuvTunKfk"
   },
   "source": [
    "### Step 3 - Flattening"
   ]
  },
  {
   "cell_type": "code",
   "execution_count": 9,
   "metadata": {
    "colab": {},
    "colab_type": "code",
    "id": "6AZeOGCvnNZn"
   },
   "outputs": [],
   "source": [
    "cnn.add(tf.keras.layers.Flatten())"
   ]
  },
  {
   "cell_type": "markdown",
   "metadata": {
    "colab_type": "text",
    "id": "dAoSECOm203v"
   },
   "source": [
    "### Step 4 - Full Connection"
   ]
  },
  {
   "cell_type": "code",
   "execution_count": 10,
   "metadata": {
    "colab": {},
    "colab_type": "code",
    "id": "8GtmUlLd26Nq"
   },
   "outputs": [],
   "source": [
    "cnn.add(tf.keras.layers.Dense(units=128, activation='relu'))"
   ]
  },
  {
   "cell_type": "markdown",
   "metadata": {
    "colab_type": "text",
    "id": "yTldFvbX28Na"
   },
   "source": [
    "### Step 5 - Output Layer"
   ]
  },
  {
   "cell_type": "code",
   "execution_count": 11,
   "metadata": {
    "colab": {},
    "colab_type": "code",
    "id": "1p_Zj1Mc3Ko_"
   },
   "outputs": [],
   "source": [
    "cnn.add(tf.keras.layers.Dense(units=1, activation='sigmoid'))"
   ]
  },
  {
   "cell_type": "markdown",
   "metadata": {
    "colab_type": "text",
    "id": "D6XkI90snSDl"
   },
   "source": [
    "## Part 3 - Training the CNN"
   ]
  },
  {
   "cell_type": "markdown",
   "metadata": {
    "colab_type": "text",
    "id": "vfrFQACEnc6i"
   },
   "source": [
    "### Compiling the CNN"
   ]
  },
  {
   "cell_type": "code",
   "execution_count": 12,
   "metadata": {
    "colab": {},
    "colab_type": "code",
    "id": "NALksrNQpUlJ"
   },
   "outputs": [],
   "source": [
    "cnn.compile(optimizer = 'adam', loss = 'binary_crossentropy', metrics = ['accuracy'])"
   ]
  },
  {
   "cell_type": "markdown",
   "metadata": {
    "colab_type": "text",
    "id": "ehS-v3MIpX2h"
   },
   "source": [
    "### Training the CNN on the Training set and evaluating it on the Test set"
   ]
  },
  {
   "cell_type": "code",
   "execution_count": 13,
   "metadata": {
    "colab": {},
    "colab_type": "code",
    "id": "XUj1W4PJptta",
    "scrolled": false
   },
   "outputs": [
    {
     "name": "stderr",
     "output_type": "stream",
     "text": [
      "2022-03-09 19:51:20.953206: I tensorflow/compiler/mlir/mlir_graph_optimization_pass.cc:185] None of the MLIR Optimization Passes are enabled (registered 2)\n"
     ]
    },
    {
     "name": "stdout",
     "output_type": "stream",
     "text": [
      "Epoch 1/100\n",
      "250/250 [==============================] - 132s 517ms/step - loss: 0.6911 - accuracy: 0.5401 - val_loss: 0.6588 - val_accuracy: 0.6320\n",
      "Epoch 2/100\n",
      "250/250 [==============================] - 42s 168ms/step - loss: 0.6353 - accuracy: 0.6399 - val_loss: 0.6022 - val_accuracy: 0.6855\n",
      "Epoch 3/100\n",
      "250/250 [==============================] - 42s 167ms/step - loss: 0.5842 - accuracy: 0.6942 - val_loss: 0.5322 - val_accuracy: 0.7470\n",
      "Epoch 4/100\n",
      "250/250 [==============================] - 42s 167ms/step - loss: 0.5421 - accuracy: 0.7220 - val_loss: 0.5173 - val_accuracy: 0.7510\n",
      "Epoch 5/100\n",
      "250/250 [==============================] - 41s 166ms/step - loss: 0.5082 - accuracy: 0.7458 - val_loss: 0.5500 - val_accuracy: 0.7320\n",
      "Epoch 6/100\n",
      "250/250 [==============================] - 39s 157ms/step - loss: 0.4909 - accuracy: 0.7632 - val_loss: 0.4786 - val_accuracy: 0.7780\n",
      "Epoch 7/100\n",
      "250/250 [==============================] - 42s 166ms/step - loss: 0.4650 - accuracy: 0.7739 - val_loss: 0.4792 - val_accuracy: 0.7755\n",
      "Epoch 8/100\n",
      "250/250 [==============================] - 41s 162ms/step - loss: 0.4491 - accuracy: 0.7866 - val_loss: 0.4752 - val_accuracy: 0.7820\n",
      "Epoch 9/100\n",
      "250/250 [==============================] - 40s 158ms/step - loss: 0.4357 - accuracy: 0.7977 - val_loss: 0.4661 - val_accuracy: 0.7780\n",
      "Epoch 10/100\n",
      "250/250 [==============================] - 41s 162ms/step - loss: 0.4177 - accuracy: 0.8011 - val_loss: 0.5297 - val_accuracy: 0.7500\n",
      "Epoch 11/100\n",
      "250/250 [==============================] - 39s 157ms/step - loss: 0.4100 - accuracy: 0.8121 - val_loss: 0.4562 - val_accuracy: 0.7925\n",
      "Epoch 12/100\n",
      "250/250 [==============================] - 41s 163ms/step - loss: 0.3959 - accuracy: 0.8189 - val_loss: 0.4512 - val_accuracy: 0.8020\n",
      "Epoch 13/100\n",
      "250/250 [==============================] - 42s 168ms/step - loss: 0.3815 - accuracy: 0.8279 - val_loss: 0.4656 - val_accuracy: 0.7840\n",
      "Epoch 14/100\n",
      "250/250 [==============================] - 42s 168ms/step - loss: 0.3655 - accuracy: 0.8374 - val_loss: 0.5256 - val_accuracy: 0.7620\n",
      "Epoch 15/100\n",
      "250/250 [==============================] - 42s 167ms/step - loss: 0.3520 - accuracy: 0.8424 - val_loss: 0.4830 - val_accuracy: 0.7835\n",
      "Epoch 16/100\n",
      "250/250 [==============================] - 42s 167ms/step - loss: 0.3397 - accuracy: 0.8550 - val_loss: 0.4678 - val_accuracy: 0.7915\n",
      "Epoch 17/100\n",
      "250/250 [==============================] - 42s 169ms/step - loss: 0.3257 - accuracy: 0.8605 - val_loss: 0.4567 - val_accuracy: 0.8000\n",
      "Epoch 18/100\n",
      "250/250 [==============================] - 42s 166ms/step - loss: 0.3119 - accuracy: 0.8658 - val_loss: 0.4649 - val_accuracy: 0.8025\n",
      "Epoch 19/100\n",
      "250/250 [==============================] - 39s 158ms/step - loss: 0.2979 - accuracy: 0.8716 - val_loss: 0.5448 - val_accuracy: 0.7670\n",
      "Epoch 20/100\n",
      "250/250 [==============================] - 40s 158ms/step - loss: 0.2850 - accuracy: 0.8800 - val_loss: 0.4894 - val_accuracy: 0.7940\n",
      "Epoch 21/100\n",
      "250/250 [==============================] - 43s 171ms/step - loss: 0.2707 - accuracy: 0.8850 - val_loss: 0.5130 - val_accuracy: 0.7900\n",
      "Epoch 22/100\n",
      "250/250 [==============================] - 42s 167ms/step - loss: 0.2559 - accuracy: 0.8923 - val_loss: 0.5051 - val_accuracy: 0.7935\n",
      "Epoch 23/100\n",
      "250/250 [==============================] - 42s 167ms/step - loss: 0.2452 - accuracy: 0.8939 - val_loss: 0.5573 - val_accuracy: 0.7860\n",
      "Epoch 24/100\n",
      "250/250 [==============================] - 43s 171ms/step - loss: 0.2420 - accuracy: 0.9011 - val_loss: 0.5478 - val_accuracy: 0.7970\n",
      "Epoch 25/100\n",
      "250/250 [==============================] - 43s 172ms/step - loss: 0.2243 - accuracy: 0.9060 - val_loss: 0.5505 - val_accuracy: 0.7865\n",
      "Epoch 26/100\n",
      "250/250 [==============================] - 39s 154ms/step - loss: 0.2082 - accuracy: 0.9135 - val_loss: 0.6320 - val_accuracy: 0.7790\n",
      "Epoch 27/100\n",
      "250/250 [==============================] - 38s 152ms/step - loss: 0.2082 - accuracy: 0.9149 - val_loss: 0.5460 - val_accuracy: 0.8005\n",
      "Epoch 28/100\n",
      "250/250 [==============================] - 36s 145ms/step - loss: 0.1905 - accuracy: 0.9244 - val_loss: 0.5621 - val_accuracy: 0.7975\n",
      "Epoch 29/100\n",
      "250/250 [==============================] - 31s 124ms/step - loss: 0.1880 - accuracy: 0.9251 - val_loss: 0.6119 - val_accuracy: 0.7960\n",
      "Epoch 30/100\n",
      "250/250 [==============================] - 31s 124ms/step - loss: 0.1820 - accuracy: 0.9283 - val_loss: 0.6021 - val_accuracy: 0.7930\n",
      "Epoch 31/100\n",
      "250/250 [==============================] - 31s 124ms/step - loss: 0.1639 - accuracy: 0.9362 - val_loss: 0.6045 - val_accuracy: 0.8055\n",
      "Epoch 32/100\n",
      "250/250 [==============================] - 32s 127ms/step - loss: 0.1483 - accuracy: 0.9413 - val_loss: 0.6800 - val_accuracy: 0.8030\n",
      "Epoch 33/100\n",
      "250/250 [==============================] - 31s 124ms/step - loss: 0.1525 - accuracy: 0.9410 - val_loss: 0.6635 - val_accuracy: 0.7880\n",
      "Epoch 34/100\n",
      "250/250 [==============================] - 31s 124ms/step - loss: 0.1520 - accuracy: 0.9386 - val_loss: 0.6127 - val_accuracy: 0.8070\n",
      "Epoch 35/100\n",
      "250/250 [==============================] - 31s 124ms/step - loss: 0.1499 - accuracy: 0.9434 - val_loss: 0.6466 - val_accuracy: 0.7980\n",
      "Epoch 36/100\n",
      "250/250 [==============================] - 31s 124ms/step - loss: 0.1331 - accuracy: 0.9463 - val_loss: 0.6231 - val_accuracy: 0.8030\n",
      "Epoch 37/100\n",
      "250/250 [==============================] - 31s 124ms/step - loss: 0.1240 - accuracy: 0.9516 - val_loss: 0.6847 - val_accuracy: 0.8075\n",
      "Epoch 38/100\n",
      "250/250 [==============================] - 31s 124ms/step - loss: 0.1323 - accuracy: 0.9491 - val_loss: 0.6492 - val_accuracy: 0.7970\n",
      "Epoch 39/100\n",
      "250/250 [==============================] - 31s 124ms/step - loss: 0.1115 - accuracy: 0.9561 - val_loss: 0.6912 - val_accuracy: 0.8045\n",
      "Epoch 40/100\n",
      "250/250 [==============================] - 31s 124ms/step - loss: 0.1172 - accuracy: 0.9553 - val_loss: 0.7036 - val_accuracy: 0.8050\n",
      "Epoch 41/100\n",
      "250/250 [==============================] - 31s 124ms/step - loss: 0.1062 - accuracy: 0.9592 - val_loss: 0.7275 - val_accuracy: 0.8055\n",
      "Epoch 42/100\n",
      "250/250 [==============================] - 31s 124ms/step - loss: 0.1044 - accuracy: 0.9640 - val_loss: 0.8213 - val_accuracy: 0.7890\n",
      "Epoch 43/100\n",
      "250/250 [==============================] - 31s 124ms/step - loss: 0.1051 - accuracy: 0.9595 - val_loss: 0.7580 - val_accuracy: 0.7960\n",
      "Epoch 44/100\n",
      "250/250 [==============================] - 31s 124ms/step - loss: 0.1077 - accuracy: 0.9595 - val_loss: 0.8142 - val_accuracy: 0.7970\n",
      "Epoch 45/100\n",
      "250/250 [==============================] - 31s 124ms/step - loss: 0.1050 - accuracy: 0.9595 - val_loss: 0.7709 - val_accuracy: 0.8015\n",
      "Epoch 46/100\n",
      "250/250 [==============================] - 31s 124ms/step - loss: 0.1077 - accuracy: 0.9625 - val_loss: 0.7492 - val_accuracy: 0.8085\n",
      "Epoch 47/100\n",
      "250/250 [==============================] - 31s 124ms/step - loss: 0.0955 - accuracy: 0.9653 - val_loss: 0.7963 - val_accuracy: 0.7975\n",
      "Epoch 48/100\n",
      "250/250 [==============================] - 31s 124ms/step - loss: 0.0850 - accuracy: 0.9700 - val_loss: 0.8253 - val_accuracy: 0.7905\n",
      "Epoch 49/100\n",
      "250/250 [==============================] - 31s 124ms/step - loss: 0.0843 - accuracy: 0.9701 - val_loss: 0.8266 - val_accuracy: 0.7955\n",
      "Epoch 50/100\n",
      "250/250 [==============================] - 31s 124ms/step - loss: 0.0746 - accuracy: 0.9716 - val_loss: 0.8988 - val_accuracy: 0.7965\n",
      "Epoch 51/100\n",
      "250/250 [==============================] - 31s 124ms/step - loss: 0.0890 - accuracy: 0.9672 - val_loss: 0.7900 - val_accuracy: 0.8050\n",
      "Epoch 52/100\n",
      "250/250 [==============================] - 31s 124ms/step - loss: 0.0800 - accuracy: 0.9712 - val_loss: 0.8378 - val_accuracy: 0.8035\n",
      "Epoch 53/100\n",
      "250/250 [==============================] - 31s 124ms/step - loss: 0.0738 - accuracy: 0.9744 - val_loss: 0.8335 - val_accuracy: 0.8035\n",
      "Epoch 54/100\n",
      "250/250 [==============================] - 31s 125ms/step - loss: 0.0718 - accuracy: 0.9750 - val_loss: 0.8924 - val_accuracy: 0.7905\n",
      "Epoch 55/100\n",
      "250/250 [==============================] - 31s 124ms/step - loss: 0.0686 - accuracy: 0.9739 - val_loss: 0.9270 - val_accuracy: 0.7905\n",
      "Epoch 56/100\n",
      "250/250 [==============================] - 31s 124ms/step - loss: 0.0808 - accuracy: 0.9688 - val_loss: 0.8953 - val_accuracy: 0.7960\n"
     ]
    },
    {
     "name": "stdout",
     "output_type": "stream",
     "text": [
      "Epoch 57/100\n",
      "250/250 [==============================] - 31s 124ms/step - loss: 0.0813 - accuracy: 0.9701 - val_loss: 0.8745 - val_accuracy: 0.7945\n",
      "Epoch 58/100\n",
      "250/250 [==============================] - 31s 124ms/step - loss: 0.0737 - accuracy: 0.9721 - val_loss: 0.8727 - val_accuracy: 0.7945\n",
      "Epoch 59/100\n",
      "250/250 [==============================] - 31s 124ms/step - loss: 0.0638 - accuracy: 0.9758 - val_loss: 1.0215 - val_accuracy: 0.7795\n",
      "Epoch 60/100\n",
      "250/250 [==============================] - 31s 124ms/step - loss: 0.0660 - accuracy: 0.9771 - val_loss: 0.9070 - val_accuracy: 0.7950\n",
      "Epoch 61/100\n",
      "250/250 [==============================] - 31s 124ms/step - loss: 0.0538 - accuracy: 0.9804 - val_loss: 0.9924 - val_accuracy: 0.7945\n",
      "Epoch 62/100\n",
      "250/250 [==============================] - 31s 124ms/step - loss: 0.0643 - accuracy: 0.9769 - val_loss: 0.9849 - val_accuracy: 0.7945\n",
      "Epoch 63/100\n",
      "250/250 [==============================] - 31s 124ms/step - loss: 0.0583 - accuracy: 0.9780 - val_loss: 0.9698 - val_accuracy: 0.7945\n",
      "Epoch 64/100\n",
      "250/250 [==============================] - 31s 124ms/step - loss: 0.0544 - accuracy: 0.9799 - val_loss: 1.0164 - val_accuracy: 0.8015\n",
      "Epoch 65/100\n",
      "250/250 [==============================] - 31s 124ms/step - loss: 0.0683 - accuracy: 0.9754 - val_loss: 0.9997 - val_accuracy: 0.7950\n",
      "Epoch 66/100\n",
      "250/250 [==============================] - 31s 124ms/step - loss: 0.0672 - accuracy: 0.9771 - val_loss: 1.0578 - val_accuracy: 0.7970\n",
      "Epoch 67/100\n",
      "250/250 [==============================] - 31s 124ms/step - loss: 0.0644 - accuracy: 0.9776 - val_loss: 1.0220 - val_accuracy: 0.7915\n",
      "Epoch 68/100\n",
      "250/250 [==============================] - 31s 124ms/step - loss: 0.0581 - accuracy: 0.9803 - val_loss: 1.0156 - val_accuracy: 0.7910\n",
      "Epoch 69/100\n",
      "250/250 [==============================] - 31s 124ms/step - loss: 0.0563 - accuracy: 0.9812 - val_loss: 0.9851 - val_accuracy: 0.7875\n",
      "Epoch 70/100\n",
      "250/250 [==============================] - 31s 124ms/step - loss: 0.0541 - accuracy: 0.9804 - val_loss: 1.0659 - val_accuracy: 0.8005\n",
      "Epoch 71/100\n",
      "250/250 [==============================] - 31s 124ms/step - loss: 0.0793 - accuracy: 0.9715 - val_loss: 0.9242 - val_accuracy: 0.7775\n",
      "Epoch 72/100\n",
      "250/250 [==============================] - 31s 124ms/step - loss: 0.0523 - accuracy: 0.9820 - val_loss: 0.9894 - val_accuracy: 0.7905\n",
      "Epoch 73/100\n",
      "250/250 [==============================] - 31s 124ms/step - loss: 0.0491 - accuracy: 0.9818 - val_loss: 1.0805 - val_accuracy: 0.7970\n",
      "Epoch 74/100\n",
      "250/250 [==============================] - 31s 124ms/step - loss: 0.0564 - accuracy: 0.9818 - val_loss: 1.0141 - val_accuracy: 0.7880\n",
      "Epoch 75/100\n",
      "250/250 [==============================] - 31s 124ms/step - loss: 0.0520 - accuracy: 0.9790 - val_loss: 1.0310 - val_accuracy: 0.7875\n",
      "Epoch 76/100\n",
      "250/250 [==============================] - 31s 124ms/step - loss: 0.0633 - accuracy: 0.9771 - val_loss: 0.9667 - val_accuracy: 0.7895\n",
      "Epoch 77/100\n",
      "250/250 [==============================] - 31s 124ms/step - loss: 0.0399 - accuracy: 0.9851 - val_loss: 1.1130 - val_accuracy: 0.7950\n",
      "Epoch 78/100\n",
      "250/250 [==============================] - 31s 124ms/step - loss: 0.0568 - accuracy: 0.9814 - val_loss: 1.0214 - val_accuracy: 0.8000\n",
      "Epoch 79/100\n",
      "250/250 [==============================] - 31s 124ms/step - loss: 0.0499 - accuracy: 0.9829 - val_loss: 1.1067 - val_accuracy: 0.7865\n",
      "Epoch 80/100\n",
      "250/250 [==============================] - 31s 124ms/step - loss: 0.0567 - accuracy: 0.9801 - val_loss: 1.0791 - val_accuracy: 0.8005\n",
      "Epoch 81/100\n",
      "250/250 [==============================] - 31s 124ms/step - loss: 0.0538 - accuracy: 0.9805 - val_loss: 1.0160 - val_accuracy: 0.7970\n",
      "Epoch 82/100\n",
      "250/250 [==============================] - 31s 124ms/step - loss: 0.0496 - accuracy: 0.9830 - val_loss: 1.1064 - val_accuracy: 0.7790\n",
      "Epoch 83/100\n",
      "250/250 [==============================] - 31s 124ms/step - loss: 0.0491 - accuracy: 0.9835 - val_loss: 1.0971 - val_accuracy: 0.7920\n",
      "Epoch 84/100\n",
      "250/250 [==============================] - 31s 124ms/step - loss: 0.0470 - accuracy: 0.9833 - val_loss: 1.1160 - val_accuracy: 0.7910\n",
      "Epoch 85/100\n",
      "250/250 [==============================] - 31s 124ms/step - loss: 0.0395 - accuracy: 0.9875 - val_loss: 1.0704 - val_accuracy: 0.7940\n",
      "Epoch 86/100\n",
      "250/250 [==============================] - 31s 124ms/step - loss: 0.0534 - accuracy: 0.9801 - val_loss: 1.1206 - val_accuracy: 0.7950\n",
      "Epoch 87/100\n",
      "250/250 [==============================] - 31s 124ms/step - loss: 0.0452 - accuracy: 0.9833 - val_loss: 1.0925 - val_accuracy: 0.8015\n",
      "Epoch 88/100\n",
      "250/250 [==============================] - 31s 124ms/step - loss: 0.0455 - accuracy: 0.9835 - val_loss: 1.0801 - val_accuracy: 0.7970\n",
      "Epoch 89/100\n",
      "250/250 [==============================] - 31s 124ms/step - loss: 0.0498 - accuracy: 0.9830 - val_loss: 1.0463 - val_accuracy: 0.8045\n",
      "Epoch 90/100\n",
      "250/250 [==============================] - 31s 124ms/step - loss: 0.0454 - accuracy: 0.9839 - val_loss: 1.1026 - val_accuracy: 0.7970\n",
      "Epoch 91/100\n",
      "250/250 [==============================] - 31s 124ms/step - loss: 0.0464 - accuracy: 0.9841 - val_loss: 1.0880 - val_accuracy: 0.8060\n",
      "Epoch 92/100\n",
      "250/250 [==============================] - 31s 124ms/step - loss: 0.0386 - accuracy: 0.9864 - val_loss: 1.1343 - val_accuracy: 0.7985\n",
      "Epoch 93/100\n",
      "250/250 [==============================] - 31s 124ms/step - loss: 0.0444 - accuracy: 0.9833 - val_loss: 1.0860 - val_accuracy: 0.7940\n",
      "Epoch 94/100\n",
      "250/250 [==============================] - 31s 124ms/step - loss: 0.0501 - accuracy: 0.9808 - val_loss: 1.0736 - val_accuracy: 0.7960\n",
      "Epoch 95/100\n",
      "250/250 [==============================] - 31s 124ms/step - loss: 0.0389 - accuracy: 0.9868 - val_loss: 1.1234 - val_accuracy: 0.7935\n",
      "Epoch 96/100\n",
      "250/250 [==============================] - 31s 124ms/step - loss: 0.0271 - accuracy: 0.9912 - val_loss: 1.1273 - val_accuracy: 0.7970\n",
      "Epoch 97/100\n",
      "250/250 [==============================] - 31s 124ms/step - loss: 0.0455 - accuracy: 0.9845 - val_loss: 1.1214 - val_accuracy: 0.7950\n",
      "Epoch 98/100\n",
      "250/250 [==============================] - 31s 124ms/step - loss: 0.0478 - accuracy: 0.9841 - val_loss: 1.1726 - val_accuracy: 0.7950\n",
      "Epoch 99/100\n",
      "250/250 [==============================] - 31s 124ms/step - loss: 0.0407 - accuracy: 0.9855 - val_loss: 1.1148 - val_accuracy: 0.7910\n",
      "Epoch 100/100\n",
      "250/250 [==============================] - 31s 124ms/step - loss: 0.0370 - accuracy: 0.9872 - val_loss: 1.1347 - val_accuracy: 0.7970\n"
     ]
    },
    {
     "data": {
      "text/plain": [
       "<keras.callbacks.History at 0x7fa6b9271730>"
      ]
     },
     "execution_count": 13,
     "metadata": {},
     "output_type": "execute_result"
    }
   ],
   "source": [
    "cnn.fit(x = training_set, validation_data = test_set, epochs = 100)"
   ]
  },
  {
   "cell_type": "code",
   "execution_count": null,
   "metadata": {},
   "outputs": [],
   "source": []
  },
  {
   "cell_type": "code",
   "execution_count": null,
   "metadata": {},
   "outputs": [],
   "source": []
  },
  {
   "cell_type": "code",
   "execution_count": null,
   "metadata": {},
   "outputs": [],
   "source": []
  },
  {
   "cell_type": "code",
   "execution_count": null,
   "metadata": {},
   "outputs": [],
   "source": []
  },
  {
   "cell_type": "code",
   "execution_count": null,
   "metadata": {},
   "outputs": [],
   "source": []
  },
  {
   "cell_type": "code",
   "execution_count": null,
   "metadata": {},
   "outputs": [],
   "source": []
  },
  {
   "cell_type": "code",
   "execution_count": null,
   "metadata": {},
   "outputs": [],
   "source": []
  },
  {
   "cell_type": "code",
   "execution_count": null,
   "metadata": {},
   "outputs": [],
   "source": []
  },
  {
   "cell_type": "markdown",
   "metadata": {
    "colab_type": "text",
    "id": "U3PZasO0006Z"
   },
   "source": [
    "## Part 4 - Making a single prediction"
   ]
  },
  {
   "cell_type": "code",
   "execution_count": null,
   "metadata": {},
   "outputs": [],
   "source": []
  },
  {
   "cell_type": "code",
   "execution_count": 0,
   "metadata": {
    "colab": {},
    "colab_type": "code",
    "id": "gsSiWEJY1BPB"
   },
   "outputs": [],
   "source": [
    "import numpy as np\n",
    "from keras.preprocessing import image\n",
    "test_image = image.load_img('dataset/single_prediction/cat_or_dog_1.jpg', target_size = (64, 64))\n",
    "test_image = image.img_to_array(test_image)\n",
    "test_image = np.expand_dims(test_image, axis = 0)\n",
    "result = cnn.predict(test_image)\n",
    "training_set.class_indices\n",
    "if result[0][0] == 1:\n",
    "  prediction = 'dog'\n",
    "else:\n",
    "  prediction = 'cat'"
   ]
  },
  {
   "cell_type": "code",
   "execution_count": 0,
   "metadata": {
    "colab": {},
    "colab_type": "code",
    "id": "ED9KB3I54c1i"
   },
   "outputs": [],
   "source": [
    "print(prediction)"
   ]
  }
 ],
 "metadata": {
  "colab": {
   "collapsed_sections": [],
   "name": "convolutional_neural_network.ipynb",
   "provenance": [],
   "toc_visible": true
  },
  "kernelspec": {
   "display_name": "Python 3 (ipykernel)",
   "language": "python",
   "name": "python3"
  },
  "language_info": {
   "codemirror_mode": {
    "name": "ipython",
    "version": 3
   },
   "file_extension": ".py",
   "mimetype": "text/x-python",
   "name": "python",
   "nbconvert_exporter": "python",
   "pygments_lexer": "ipython3",
   "version": "3.8.11"
  }
 },
 "nbformat": 4,
 "nbformat_minor": 1
}
